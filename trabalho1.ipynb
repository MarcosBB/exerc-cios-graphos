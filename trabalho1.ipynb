{
 "cells": [
  {
   "cell_type": "code",
   "execution_count": 62,
   "id": "59869e89",
   "metadata": {},
   "outputs": [
    {
     "data": {
      "text/plain": [
       "'Source.gv.pdf'"
      ]
     },
     "execution_count": 62,
     "metadata": {},
     "output_type": "execute_result"
    }
   ],
   "source": [
    "# Importação do grafo\n",
    "from networkx import nx_agraph\n",
    "from graphviz import Source\n",
    "\n",
    "# Carregar o grafo usando NetworkX\n",
    "graph = nx_agraph.read_dot('./graphs/graph2.dot')\n",
    "\n",
    "# Converter o grafo para o formato DOT\n",
    "graph_dot = nx_agraph.to_agraph(graph)\n",
    "\n",
    "# Imprime na tela\n",
    "source = Source(graph_dot.to_string())\n",
    "source.view()  # Abre o visualizador padrão do sistema operacional\n"
   ]
  },
  {
   "cell_type": "markdown",
   "id": "d410b403",
   "metadata": {},
   "source": [
    "## Busca em Largura (BFS)\n",
    "Usando matriz de adjacência"
   ]
  },
  {
   "cell_type": "code",
   "execution_count": null,
   "id": "0f39bb76",
   "metadata": {},
   "outputs": [
    {
     "name": "stdout",
     "output_type": "stream",
     "text": [
      "[[0. 1. 0. 0. 1. 0. 0. 0. 0. 0.]\n",
      " [1. 0. 1. 0. 0. 0. 0. 1. 0. 0.]\n",
      " [0. 1. 0. 1. 0. 1. 0. 0. 0. 0.]\n",
      " [0. 0. 1. 0. 1. 0. 0. 0. 0. 0.]\n",
      " [1. 0. 0. 1. 0. 0. 0. 0. 0. 0.]\n",
      " [0. 0. 1. 0. 0. 0. 1. 0. 0. 1.]\n",
      " [0. 0. 0. 0. 0. 1. 0. 1. 0. 0.]\n",
      " [0. 1. 0. 0. 0. 0. 1. 0. 1. 0.]\n",
      " [0. 0. 0. 0. 0. 0. 0. 1. 0. 1.]\n",
      " [0. 0. 0. 0. 0. 1. 0. 0. 1. 0.]]\n"
     ]
    }
   ],
   "source": [
    "# Converte o grafo para matriz de adjacência\n",
    "from networkx import to_numpy_array\n",
    "adj_matrix = to_numpy_array(graph)\n",
    "print(adj_matrix)\n",
    "\n"
   ]
  },
  {
   "cell_type": "code",
   "execution_count": 76,
   "id": "322c70c1",
   "metadata": {},
   "outputs": [
    {
     "ename": "TypeError",
     "evalue": "list indices must be integers or slices, not Node",
     "output_type": "error",
     "traceback": [
      "\u001b[31m---------------------------------------------------------------------------\u001b[39m",
      "\u001b[31mTypeError\u001b[39m                                 Traceback (most recent call last)",
      "\u001b[36mCell\u001b[39m\u001b[36m \u001b[39m\u001b[32mIn[76]\u001b[39m\u001b[32m, line 23\u001b[39m\n\u001b[32m     19\u001b[39m     \u001b[38;5;28;01mreturn\u001b[39;00m traversal_order\n\u001b[32m     21\u001b[39m start_node = \u001b[38;5;28mmin\u001b[39m(graph_dot.nodes())\n\u001b[32m---> \u001b[39m\u001b[32m23\u001b[39m result_tree = \u001b[43mbfs\u001b[49m\u001b[43m(\u001b[49m\u001b[43madj_matrix\u001b[49m\u001b[43m,\u001b[49m\u001b[43m \u001b[49m\u001b[43mstart_node\u001b[49m\u001b[43m)\u001b[49m\n\u001b[32m     24\u001b[39m result_tree_dot = nx_agraph.to_agraph(result_tree)\n\u001b[32m     25\u001b[39m Source(result_tree_dot.to_string())\n",
      "\u001b[36mCell\u001b[39m\u001b[36m \u001b[39m\u001b[32mIn[76]\u001b[39m\u001b[32m, line 8\u001b[39m, in \u001b[36mbfs\u001b[39m\u001b[34m(adj_matrix, start_node)\u001b[39m\n\u001b[32m      5\u001b[39m traversal_order = []\n\u001b[32m      7\u001b[39m queue.append(start_node)\n\u001b[32m----> \u001b[39m\u001b[32m8\u001b[39m \u001b[43mvisited\u001b[49m\u001b[43m[\u001b[49m\u001b[43mstart_node\u001b[49m\u001b[43m]\u001b[49m = \u001b[38;5;28;01mTrue\u001b[39;00m\n\u001b[32m     10\u001b[39m \u001b[38;5;28;01mwhile\u001b[39;00m queue:\n\u001b[32m     11\u001b[39m     current_node = queue.pop(\u001b[32m0\u001b[39m)\n",
      "\u001b[31mTypeError\u001b[39m: list indices must be integers or slices, not Node"
     ]
    }
   ],
   "source": [
    "def bfs(adj_matrix, start_node):\n",
    "    num_nodes = len(adj_matrix)\n",
    "    visited = [False] * num_nodes\n",
    "    queue = []\n",
    "    traversal_order = []\n",
    "\n",
    "    queue.append(start_node)\n",
    "    visited[start_node] = True\n",
    "\n",
    "    while queue:\n",
    "        current_node = queue.pop(0)\n",
    "        traversal_order.append(current_node)\n",
    "\n",
    "        for neighbor, is_connected in enumerate(adj_matrix[current_node]):\n",
    "            if is_connected and not visited[neighbor]:\n",
    "                queue.append(neighbor)\n",
    "                visited[neighbor] = True\n",
    "\n",
    "    return traversal_order\n",
    "\n",
    "start_node = min(graph_dot.nodes())\n",
    "\n",
    "result_tree = bfs(adj_matrix, start_node)\n",
    "result_tree_dot = nx_agraph.to_agraph(result_tree)\n",
    "Source(result_tree_dot.to_string())"
   ]
  },
  {
   "cell_type": "markdown",
   "id": "eaf5888b",
   "metadata": {},
   "source": [
    "## Busca por profundidade (DFS) \n",
    "Usando lista de adjacência"
   ]
  },
  {
   "cell_type": "code",
   "execution_count": 73,
   "id": "4e3311ff",
   "metadata": {},
   "outputs": [
    {
     "data": {
      "text/plain": [
       "{'a': ['b', 'e'],\n",
       " 'b': ['a', 'c', 'h'],\n",
       " 'c': ['b', 'd', 'f'],\n",
       " 'd': ['c', 'e'],\n",
       " 'e': ['d', 'a'],\n",
       " 'f': ['c', 'g', 'j'],\n",
       " 'g': ['f', 'h'],\n",
       " 'h': ['b', 'g', 'i'],\n",
       " 'i': ['h', 'j'],\n",
       " 'j': ['i', 'f']}"
      ]
     },
     "execution_count": 73,
     "metadata": {},
     "output_type": "execute_result"
    }
   ],
   "source": [
    "# Converte o grafo para listas de adjacência\n",
    "from networkx import to_dict_of_lists\n",
    "adj_list = to_dict_of_lists(graph)\n",
    "adj_list"
   ]
  },
  {
   "cell_type": "code",
   "execution_count": 74,
   "id": "bf827dc4",
   "metadata": {},
   "outputs": [
    {
     "data": {
      "image/svg+xml": [
       "<?xml version=\"1.0\" encoding=\"UTF-8\" standalone=\"no\"?>\n",
       "<!DOCTYPE svg PUBLIC \"-//W3C//DTD SVG 1.1//EN\"\n",
       " \"http://www.w3.org/Graphics/SVG/1.1/DTD/svg11.dtd\">\n",
       "<!-- Generated by graphviz version 14.0.1 (20251006.0113)\n",
       " -->\n",
       "<!-- Pages: 1 -->\n",
       "<svg width=\"134pt\" height=\"548pt\"\n",
       " viewBox=\"0.00 0.00 134.00 548.00\" xmlns=\"http://www.w3.org/2000/svg\" xmlns:xlink=\"http://www.w3.org/1999/xlink\">\n",
       "<g id=\"graph0\" class=\"graph\" transform=\"scale(1 1) rotate(0) translate(4 544)\">\n",
       "<polygon fill=\"white\" stroke=\"none\" points=\"-4,4 -4,-544 130,-544 130,4 -4,4\"/>\n",
       "<!-- a -->\n",
       "<g id=\"node1\" class=\"node\">\n",
       "<title>a</title>\n",
       "<ellipse fill=\"none\" stroke=\"black\" cx=\"63\" cy=\"-522\" rx=\"27\" ry=\"18\"/>\n",
       "<text xml:space=\"preserve\" text-anchor=\"middle\" x=\"63\" y=\"-516.95\" font-family=\"Times,serif\" font-size=\"14.00\">a</text>\n",
       "</g>\n",
       "<!-- b -->\n",
       "<g id=\"node2\" class=\"node\">\n",
       "<title>b</title>\n",
       "<ellipse fill=\"none\" stroke=\"black\" cx=\"63\" cy=\"-450\" rx=\"27\" ry=\"18\"/>\n",
       "<text xml:space=\"preserve\" text-anchor=\"middle\" x=\"63\" y=\"-444.95\" font-family=\"Times,serif\" font-size=\"14.00\">b</text>\n",
       "</g>\n",
       "<!-- a&#45;&#45;b -->\n",
       "<g id=\"edge1\" class=\"edge\">\n",
       "<title>a&#45;&#45;b</title>\n",
       "<path fill=\"none\" stroke=\"black\" d=\"M63,-503.7C63,-492.85 63,-478.92 63,-468.1\"/>\n",
       "</g>\n",
       "<!-- c -->\n",
       "<g id=\"node3\" class=\"node\">\n",
       "<title>c</title>\n",
       "<ellipse fill=\"none\" stroke=\"black\" cx=\"63\" cy=\"-378\" rx=\"27\" ry=\"18\"/>\n",
       "<text xml:space=\"preserve\" text-anchor=\"middle\" x=\"63\" y=\"-372.95\" font-family=\"Times,serif\" font-size=\"14.00\">c</text>\n",
       "</g>\n",
       "<!-- b&#45;&#45;c -->\n",
       "<g id=\"edge2\" class=\"edge\">\n",
       "<title>b&#45;&#45;c</title>\n",
       "<path fill=\"none\" stroke=\"black\" d=\"M63,-431.7C63,-420.85 63,-406.92 63,-396.1\"/>\n",
       "</g>\n",
       "<!-- d -->\n",
       "<g id=\"node4\" class=\"node\">\n",
       "<title>d</title>\n",
       "<ellipse fill=\"none\" stroke=\"black\" cx=\"27\" cy=\"-306\" rx=\"27\" ry=\"18\"/>\n",
       "<text xml:space=\"preserve\" text-anchor=\"middle\" x=\"27\" y=\"-300.95\" font-family=\"Times,serif\" font-size=\"14.00\">d</text>\n",
       "</g>\n",
       "<!-- c&#45;&#45;d -->\n",
       "<g id=\"edge3\" class=\"edge\">\n",
       "<title>c&#45;&#45;d</title>\n",
       "<path fill=\"none\" stroke=\"black\" d=\"M54.65,-360.76C48.83,-349.46 41.11,-334.44 35.3,-323.15\"/>\n",
       "</g>\n",
       "<!-- f -->\n",
       "<g id=\"node5\" class=\"node\">\n",
       "<title>f</title>\n",
       "<ellipse fill=\"none\" stroke=\"black\" cx=\"99\" cy=\"-306\" rx=\"27\" ry=\"18\"/>\n",
       "<text xml:space=\"preserve\" text-anchor=\"middle\" x=\"99\" y=\"-300.95\" font-family=\"Times,serif\" font-size=\"14.00\">f</text>\n",
       "</g>\n",
       "<!-- c&#45;&#45;f -->\n",
       "<g id=\"edge4\" class=\"edge\">\n",
       "<title>c&#45;&#45;f</title>\n",
       "<path fill=\"none\" stroke=\"black\" d=\"M71.35,-360.76C77.17,-349.46 84.89,-334.44 90.7,-323.15\"/>\n",
       "</g>\n",
       "<!-- e -->\n",
       "<g id=\"node6\" class=\"node\">\n",
       "<title>e</title>\n",
       "<ellipse fill=\"none\" stroke=\"black\" cx=\"27\" cy=\"-234\" rx=\"27\" ry=\"18\"/>\n",
       "<text xml:space=\"preserve\" text-anchor=\"middle\" x=\"27\" y=\"-228.95\" font-family=\"Times,serif\" font-size=\"14.00\">e</text>\n",
       "</g>\n",
       "<!-- d&#45;&#45;e -->\n",
       "<g id=\"edge5\" class=\"edge\">\n",
       "<title>d&#45;&#45;e</title>\n",
       "<path fill=\"none\" stroke=\"black\" d=\"M27,-287.7C27,-276.85 27,-262.92 27,-252.1\"/>\n",
       "</g>\n",
       "<!-- g -->\n",
       "<g id=\"node7\" class=\"node\">\n",
       "<title>g</title>\n",
       "<ellipse fill=\"none\" stroke=\"black\" cx=\"99\" cy=\"-234\" rx=\"27\" ry=\"18\"/>\n",
       "<text xml:space=\"preserve\" text-anchor=\"middle\" x=\"99\" y=\"-228.95\" font-family=\"Times,serif\" font-size=\"14.00\">g</text>\n",
       "</g>\n",
       "<!-- f&#45;&#45;g -->\n",
       "<g id=\"edge6\" class=\"edge\">\n",
       "<title>f&#45;&#45;g</title>\n",
       "<path fill=\"none\" stroke=\"black\" d=\"M99,-287.7C99,-276.85 99,-262.92 99,-252.1\"/>\n",
       "</g>\n",
       "<!-- h -->\n",
       "<g id=\"node8\" class=\"node\">\n",
       "<title>h</title>\n",
       "<ellipse fill=\"none\" stroke=\"black\" cx=\"99\" cy=\"-162\" rx=\"27\" ry=\"18\"/>\n",
       "<text xml:space=\"preserve\" text-anchor=\"middle\" x=\"99\" y=\"-156.95\" font-family=\"Times,serif\" font-size=\"14.00\">h</text>\n",
       "</g>\n",
       "<!-- g&#45;&#45;h -->\n",
       "<g id=\"edge7\" class=\"edge\">\n",
       "<title>g&#45;&#45;h</title>\n",
       "<path fill=\"none\" stroke=\"black\" d=\"M99,-215.7C99,-204.85 99,-190.92 99,-180.1\"/>\n",
       "</g>\n",
       "<!-- i -->\n",
       "<g id=\"node9\" class=\"node\">\n",
       "<title>i</title>\n",
       "<ellipse fill=\"none\" stroke=\"black\" cx=\"99\" cy=\"-90\" rx=\"27\" ry=\"18\"/>\n",
       "<text xml:space=\"preserve\" text-anchor=\"middle\" x=\"99\" y=\"-84.95\" font-family=\"Times,serif\" font-size=\"14.00\">i</text>\n",
       "</g>\n",
       "<!-- h&#45;&#45;i -->\n",
       "<g id=\"edge8\" class=\"edge\">\n",
       "<title>h&#45;&#45;i</title>\n",
       "<path fill=\"none\" stroke=\"black\" d=\"M99,-143.7C99,-132.85 99,-118.92 99,-108.1\"/>\n",
       "</g>\n",
       "<!-- j -->\n",
       "<g id=\"node10\" class=\"node\">\n",
       "<title>j</title>\n",
       "<ellipse fill=\"none\" stroke=\"black\" cx=\"99\" cy=\"-18\" rx=\"27\" ry=\"18\"/>\n",
       "<text xml:space=\"preserve\" text-anchor=\"middle\" x=\"99\" y=\"-12.95\" font-family=\"Times,serif\" font-size=\"14.00\">j</text>\n",
       "</g>\n",
       "<!-- i&#45;&#45;j -->\n",
       "<g id=\"edge9\" class=\"edge\">\n",
       "<title>i&#45;&#45;j</title>\n",
       "<path fill=\"none\" stroke=\"black\" d=\"M99,-71.7C99,-60.85 99,-46.92 99,-36.1\"/>\n",
       "</g>\n",
       "</g>\n",
       "</svg>\n"
      ],
      "text/plain": [
       "<graphviz.sources.Source at 0x12a087960>"
      ]
     },
     "execution_count": 74,
     "metadata": {},
     "output_type": "execute_result"
    }
   ],
   "source": [
    "from typing import Dict, List\n",
    "from networkx import Graph\n",
    "\n",
    "def dfs(adj_list: Dict[str, List[str]], start_node: str) -> Graph:\n",
    "    visited = set()\n",
    "    dfs_tree = Graph()\n",
    "\n",
    "    def visit(node: str):\n",
    "        visited.add(node)\n",
    "        for neighbor in adj_list.get(node, []):\n",
    "            if neighbor not in visited:\n",
    "                dfs_tree.add_edge(node, neighbor)\n",
    "                visit(neighbor)\n",
    "\n",
    "    visit(start_node)\n",
    "    return dfs_tree\n",
    "\n",
    "\n",
    "start_node = min(adj_list.keys())\n",
    "\n",
    "result_tree = dfs(adj_list, start_node)\n",
    "result_tree_dot = nx_agraph.to_agraph(result_tree)\n",
    "Source(result_tree_dot.to_string())"
   ]
  }
 ],
 "metadata": {
  "kernelspec": {
   "display_name": "exerc-cios-graphos",
   "language": "python",
   "name": "python3"
  },
  "language_info": {
   "codemirror_mode": {
    "name": "ipython",
    "version": 3
   },
   "file_extension": ".py",
   "mimetype": "text/x-python",
   "name": "python",
   "nbconvert_exporter": "python",
   "pygments_lexer": "ipython3",
   "version": "3.13.3"
  }
 },
 "nbformat": 4,
 "nbformat_minor": 5
}
